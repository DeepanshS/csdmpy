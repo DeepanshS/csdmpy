{
 "cells": [
  {
   "cell_type": "code",
   "execution_count": 1,
   "metadata": {},
   "outputs": [],
   "source": [
    "from studium import dataModel as dtm\n",
    "import matplotlib.pyplot as plt\n",
    "from scipy.fftpack import fft, fftshift\n",
    "\n",
    "hfont = {'fontname' : 'Helvetica', 'weight' : 'light', 'size'   : 9}\n",
    "\n",
    "params = {'font.family' : 'sans-serif',\n",
    "          'font.sans-serif' : 'Helvetica',\n",
    "          'font.weight' : 'light',\n",
    "          'font.size' : 9,\n",
    "          'pdf.fonttype' : 42,\n",
    "          'mathtext.fontset' : 'dejavusans',\n",
    "          'mathtext.rm' : 'serif:light',\n",
    "          'xtick.major.pad' : 1,\n",
    "          'xtick.minor.pad' : 1,\n",
    "          'ytick.major.pad' : 1,\n",
    "          'ytick.minor.pad' : 1,\n",
    "          'axes.labelpad' : 0,\n",
    "          'axes.labelpad' : 0}\n",
    "#           'mathtext.it' : 'Bitstream Vera Sans:italic',\n",
    "#           'mathtext.bf' : 'Bitstream Vera Sans:bold'}\n",
    "\n",
    "plt.rcParams.update(params)\n"
   ]
  },
  {
   "cell_type": "markdown",
   "metadata": {},
   "source": [
    "# Controlled-variable object"
   ]
  },
  {
   "cell_type": "markdown",
   "metadata": {},
   "source": [
    "*Attributes*\n",
    "\n",
    "| linear | non-linear | non-quantitative|\n",
    "|------------- |:-------------:| -----:|\n",
    " sampling_type | sampling_type | sampling_type |\n",
    " quantitative | quantitative | quantitative |\n",
    " number_of_points | - | - |\n",
    " sampling_interval | - | - |\n",
    " reference_offset | reference_offset | - |\n",
    " origin_offset | origin_offset | - |\n",
    " quantity | quantity | - |\n",
    " reverse | reverse | reverse |\n",
    " periodic | periodic | - |\n",
    " label | label | label |\n",
    " unit | unit | - |\n",
    " made_dimensionless | made_dimensionless | - |\n",
    " fft_ouput_order | - | - |\n",
    " reciprocal_sampling_interval | - | - |\n",
    " reciprocal_reference_offset | reciprocal_reference_offset | - |\n",
    " reciprocal_origin_offset | reciprocal_origin_offset | - |\n",
    " reciprocal_quantity | reciprocal_quantity | - |\n",
    " reciprocal_reverse | reciprocal_reverse | - |\n",
    " reciprocal_periodic | reciprocal_periodic | - |\n",
    " reciprocal_label | reciprocal_label | - |\n",
    " reciprocal_unit | reciprocal_unit | - |\n",
    " reciprocal_made_dimensionless | reciprocal_made_dimensionless | - |\n",
    " coordinates | coordinates | coordinates |\n",
    " absolute_coordinates | absolute_coordinates | - |\n",
    " reciprocal_coordinates | reciprocal_coordinates | - |\n",
    " reciprocal_absolute_coordinates | reciprocal_absolute_coordinates | - |\n",
    " \n",
    "*Methods* \n",
    "\n",
    "| linear | non-linear | non-quantitative|\n",
    "|------------- |:-------------:| -----:|\n",
    " to(unit) | to(unit) | - |\n",
    " getJsonDictionary() | getJsonDictionary() | getJsonDictionary()"
   ]
  },
  {
   "cell_type": "code",
   "execution_count": 2,
   "metadata": {},
   "outputs": [
    {
     "name": "stdout",
     "output_type": "stream",
     "text": [
      "{\n",
      "  \"reciprocal\": {\n",
      "    \"quantity\": \"time\"\n",
      "  },\n",
      "  \"number_of_points\": 50,\n",
      "  \"sampling_interval\": \"1.0 Hz\",\n",
      "  \"reference_offset\": \"100.0 Hz\",\n",
      "  \"quantity\": \"frequency\"\n",
      "}\n",
      "[-100.  -99.  -98.  -97.  -96.  -95.  -94.  -93.  -92.  -91.  -90.  -89.\n",
      "  -88.  -87.  -86.  -85.  -84.  -83.  -82.  -81.  -80.  -79.  -78.  -77.\n",
      "  -76.  -75.  -74.  -73.  -72.  -71.  -70.  -69.  -68.  -67.  -66.  -65.\n",
      "  -64.  -63.  -62.  -61.  -60.  -59.  -58.  -57.  -56.  -55.  -54.  -53.\n",
      "  -52.  -51.] Hz\n"
     ]
    }
   ],
   "source": [
    "### Generating a linearly sampled quantitaive controlled-variable\n",
    "\n",
    "d1={'number_of_points':50,\n",
    "    'sampling_interval': \"1 Hz\",\n",
    "    'reference_offset': \"100 Hz\"}\n",
    "\n",
    "# create dataModel object\n",
    "a=dtm()\n",
    "\n",
    "# add key-value pairs to generate controlled-variable coordinates.\n",
    "a.addControlledVariable(d1)\n",
    "\n",
    "# print(a)\n",
    "print(a.controlled_variables[0])\n",
    "print(a.controlled_variables[0].coordinates)"
   ]
  },
  {
   "cell_type": "code",
   "execution_count": 3,
   "metadata": {},
   "outputs": [
    {
     "name": "stdout",
     "output_type": "stream",
     "text": [
      "{\n",
      "  \"reciprocal\": {\n",
      "    \"quantity\": \"wavenumber\"\n",
      "  },\n",
      "  \"coordinates\": [\n",
      "    \"10.0 m\",\n",
      "    \"200.0 m\",\n",
      "    \"1000.0 m\",\n",
      "    \"10000.0 m\",\n",
      "    \"100000.0 m\"\n",
      "  ],\n",
      "  \"origin_offset\": \"50.0 Gm\",\n",
      "  \"quantity\": \"length\"\n",
      "}\n",
      "[1.e+01 2.e+02 1.e+03 1.e+04 1.e+05] m\n"
     ]
    }
   ],
   "source": [
    "### Generating a non-linearly sampled quantitaive controlled-variable\n",
    "\n",
    "d2={'coordinates': ['10 m', '200 m', '1 km', '10 km', '100 km'],\n",
    "    'origin_offset' : '50 Gm'}\n",
    "\n",
    "# create dataModel object\n",
    "a=dtm()\n",
    "\n",
    "# add key-value pairs to generate controlled-variable coordinates\n",
    "a.addControlledVariable(d2)\n",
    "\n",
    "print(a.controlled_variables[0])\n",
    "print(a.controlled_variables[0].coordinates)"
   ]
  },
  {
   "cell_type": "code",
   "execution_count": 4,
   "metadata": {},
   "outputs": [
    {
     "name": "stdout",
     "output_type": "stream",
     "text": [
      "{\n",
      "  \"coordinates\": [\n",
      "    \"Cu\",\n",
      "    \"Zn\",\n",
      "    \"Mg\",\n",
      "    \"Ba\"\n",
      "  ]\n",
      "}\n",
      "['Cu' 'Zn' 'Mg' 'Ba']\n"
     ]
    }
   ],
   "source": [
    "### Generating a non-quantitaive controlled-variable\n",
    "\n",
    "d3={'quantitative':False,\n",
    "    'coordinates': ['Cu', 'Zn', 'Mg', 'Ba']}\n",
    "\n",
    "# create dataModel object\n",
    "a=dtm()\n",
    "\n",
    "# add key-value pairs to generate controlled-variable coordinates\n",
    "a.addControlledVariable(d3)\n",
    "\n",
    "print(a.controlled_variables[0])\n",
    "print(a.controlled_variables[0].coordinates)"
   ]
  },
  {
   "cell_type": "code",
   "execution_count": 5,
   "metadata": {},
   "outputs": [
    {
     "name": "stdout",
     "output_type": "stream",
     "text": [
      "{\n",
      "  \"uncontrolled_variables\": [],\n",
      "  \"controlled_variables\": [\n",
      "    {\n",
      "      \"reciprocal\": {\n",
      "        \"quantity\": \"time\"\n",
      "      },\n",
      "      \"number_of_points\": 50,\n",
      "      \"sampling_interval\": \"1.0 Hz\",\n",
      "      \"reference_offset\": \"100.0 Hz\",\n",
      "      \"quantity\": \"frequency\"\n",
      "    },\n",
      "    {\n",
      "      \"reciprocal\": {\n",
      "        \"quantity\": \"wavenumber\"\n",
      "      },\n",
      "      \"coordinates\": [\n",
      "        \"10.0 m\",\n",
      "        \"200.0 m\",\n",
      "        \"1000.0 m\",\n",
      "        \"10000.0 m\",\n",
      "        \"100000.0 m\"\n",
      "      ],\n",
      "      \"origin_offset\": \"50.0 Gm\",\n",
      "      \"quantity\": \"length\"\n",
      "    },\n",
      "    {\n",
      "      \"coordinates\": [\n",
      "        \"Cu\",\n",
      "        \"Zn\",\n",
      "        \"Mg\",\n",
      "        \"Ba\"\n",
      "      ]\n",
      "    }\n",
      "  ],\n",
      "  \"version\": \"1.0\"\n",
      "}\n"
     ]
    }
   ],
   "source": [
    "### Generating a multiple quantitaive controlled-variables\n",
    "\n",
    "a=dtm()\n",
    "a.addControlledVariable(d1)\n",
    "a.addControlledVariable(d2)\n",
    "a.addControlledVariable(d3)\n",
    "\n",
    "## Print as python dictonary\n",
    "print (a)"
   ]
  },
  {
   "cell_type": "code",
   "execution_count": 5,
   "metadata": {},
   "outputs": [
    {
     "name": "stdout",
     "output_type": "stream",
     "text": [
      "_studium raw\n",
      "{\n",
      "  \"uncontrolled_variables\": [\n",
      "    {\n",
      "      \"encoding\": \"raw\",\n",
      "      \"numeric_type\": \"complex64\",\n",
      "      \"components_url\": \"_0.dat\"\n",
      "    }\n",
      "  ],\n",
      "  \"controlled_variables\": [\n",
      "    {\n",
      "      \"reciprocal\": {\n",
      "        \"origin_offset\": \"299901560.0 Hz\",\n",
      "        \"reverse\": true,\n",
      "        \"quantity\": \"frequency\"\n",
      "      },\n",
      "      \"number_of_points\": 4096,\n",
      "      \"sampling_interval\": \"0.1 ms\",\n",
      "      \"quantity\": \"time\"\n",
      "    }\n",
      "  ],\n",
      "  \"version\": \"1.0\"\n",
      "}\n",
      "[0.000e+00 1.000e-01 2.000e-01 ... 4.093e+02 4.094e+02 4.095e+02] ms\n",
      "[ 0.03344307+0.45154804j  0.04556784+0.39205667j -0.16128619-0.4287641j\n",
      " ...  0.        +0.j          0.        +0.j\n",
      "  0.        +0.j        ]\n"
     ]
    }
   ],
   "source": [
    "filename = 'test/NMR/blochDecay/blochDecay_raw.jsdtx'\n",
    "dO = dtm(filename)\n",
    "print (dO)\n",
    "\n",
    "print (dO.controlled_variables[0].coordinates)\n",
    "print (dO.uncontrolled_variables[0].components[0])"
   ]
  },
  {
   "cell_type": "code",
   "execution_count": 6,
   "metadata": {},
   "outputs": [
    {
     "data": {
      "image/png": "[encoded data removed]",
      "text/plain": [
       "<Figure size 244.8x252 with 4 Axes>"
      ]
     },
     "metadata": {},
     "output_type": "display_data"
    }
   ],
   "source": [
    "filename = 'test/NMR/blochDecay/blochDecay_none.jsdts'\n",
    "dO = dtm(filename)\n",
    "y = dO.uncontrolled_variables[0].components[0]\n",
    "x = dO.controlled_variables[0].coordinates\n",
    "signalFT = fftshift(fft(y))\n",
    "\n",
    "fig, ax = plt.subplots(2,2, figsize=(3.4,3.5), sharey='row', sharex='row')\n",
    "ax[0,0].plot(x, y.real, color='k', linewidth=0.2)\n",
    "ax[0,1].plot(x, y.imag, color='k', linewidth=0.2)\n",
    "ax[0,0].set_xlim([x[0].value, x[-1].value])\n",
    "[ax[0,i].set_xlabel(dO.controlled_variables[0].label, **hfont) for i in [0,1]]\n",
    "\n",
    "dO.controlled_variables[0]._reciprocal()\n",
    "\n",
    "x = dO.controlled_variables[0].coordinates\n",
    "ax[1,0].plot(x, signalFT.real, color='k', linewidth=0.2)\n",
    "ax[1,1].plot(x, signalFT.imag, color='k', linewidth=0.2)\n",
    "ax[1,0].set_xlim([x[0].value, x[-1].value])\n",
    "[ax[1,i].set_xlabel(dO.controlled_variables[0].label, **hfont) for i in [0,1]]\n",
    "if dO.controlled_variables[0].reverse : ax[1,0].invert_xaxis() \n",
    "\n",
    "plt.tight_layout(pad=0.0, w_pad=0.0, h_pad=0.0)\n",
    "# pdfName='/'.join(filename.split('/')[:-1]) + '/' + filename.split('/')[-1].split('_')[0] + '.pdf'\n",
    "# plt.savefig(pdfName, dpi=1600, transparent=True)\n",
    "plt.show()\n",
    "\n",
    "\n",
    "# print (dO.dataset[0].component[0][:2])\n",
    "# print (dO.dataset[0].component[0][-2:])"
   ]
  },
  {
   "cell_type": "code",
   "execution_count": null,
   "metadata": {},
   "outputs": [],
   "source": []
  }
 ],
 "metadata": {
  "kernelspec": {
   "display_name": "Python 3",
   "language": "python",
   "name": "python3"
  },
  "language_info": {
   "codemirror_mode": {
    "name": "ipython",
    "version": 3
   },
   "file_extension": ".py",
   "mimetype": "text/x-python",
   "name": "python",
   "nbconvert_exporter": "python",
   "pygments_lexer": "ipython3",
   "version": "3.6.5"
  }
 },
 "nbformat": 4,
 "nbformat_minor": 2
}
